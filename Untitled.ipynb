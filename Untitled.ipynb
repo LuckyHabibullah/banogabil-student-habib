{
 "cells": [
  {
   "cell_type": "code",
   "execution_count": null,
   "id": "47fb42e5-922d-4936-9e52-21bb9aa825ae",
   "metadata": {},
   "outputs": [],
   "source": []
  },
  {
   "cell_type": "code",
   "execution_count": 45,
   "id": "c3b415ed-4dba-47a6-9bd0-802175566c4e",
   "metadata": {},
   "outputs": [
    {
     "name": "stdin",
     "output_type": "stream",
     "text": [
      "enter your name: HABIBULLAH KHAN\n",
      "give PHYSICS numbers: 74\n",
      "give URDU numbers: 99\n",
      "give ISLAMIAT numbers: 99\n"
     ]
    },
    {
     "name": "stdout",
     "output_type": "stream",
     "text": [
      "\t your total numbers is 272\n",
      " your percent is 98.9090909090909 your grade is A1\n"
     ]
    }
   ],
   "source": [
    "       #marksheet\n",
    "person = input(\"enter your name:\")\n",
    "\n",
    "physics = int(input(\"give PHYSICS numbers:\" ))\n",
    "urdu = int(input(\"give URDU numbers:\" ))\n",
    "islamiat = int(input(\"give ISLAMIAT numbers:\" ))\n",
    "\n",
    "obtain = (physics + urdu + islamiat)\n",
    "percent = (obtain)*100/275\n",
    "\n",
    "if percent <200 and percent <275:\n",
    "    grade = \"A1\"\n",
    "\n",
    "elif percent <150 and percent < 275:\n",
    "    grade = \"B\"\n",
    "elif percent <100 and percent < 275:\n",
    "    grade = \"c\"\n",
    "\n",
    "else:\n",
    "    grade = \"invalid answer\"\n",
    "\n",
    "print(f\"\\t your total numbers is {obtain}\\n your percent is {percent} your grade is {grade}\")\n",
    "\n"
   ]
  }
 ],
 "metadata": {
  "kernelspec": {
   "display_name": "Python 3 (ipykernel)",
   "language": "python",
   "name": "python3"
  },
  "language_info": {
   "codemirror_mode": {
    "name": "ipython",
    "version": 3
   },
   "file_extension": ".py",
   "mimetype": "text/x-python",
   "name": "python",
   "nbconvert_exporter": "python",
   "pygments_lexer": "ipython3",
   "version": "3.12.4"
  }
 },
 "nbformat": 4,
 "nbformat_minor": 5
}
